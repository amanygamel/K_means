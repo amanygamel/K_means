{
  "nbformat": 4,
  "nbformat_minor": 0,
  "metadata": {
    "colab": {
      "provenance": [],
      "collapsed_sections": [],
      "toc_visible": true
    },
    "kernelspec": {
      "name": "python3",
      "display_name": "Python 3"
    }
  },
  "cells": [
    {
      "cell_type": "markdown",
      "metadata": {
        "id": "Nu5FM2EXU0J1"
      },
      "source": [
        "# **Introduction**\n",
        "\n",
        "\n",
        "In this exercise, you will implement the K-means clustering algorithm and apply it to Dataset with multiple features. We strongly recommend Asking your colleagues and your Coach Using Questions And Discussions Channel on Microsoft Teams."
      ]
    },
    {
      "cell_type": "markdown",
      "metadata": {
        "id": "_vM_5zjt1JJL"
      },
      "source": [
        "Run the next cell to import the needed libraries and to load the dataset"
      ]
    },
    {
      "cell_type": "code",
      "metadata": {
        "id": "I_-ubw_G1Uku"
      },
      "source": [
        "import numpy as np\n",
        "import pandas as pd\n",
        "import numpy.matlib\n",
        "import matplotlib.pyplot as plt"
      ],
      "execution_count": null,
      "outputs": []
    },
    {
      "cell_type": "markdown",
      "metadata": {
        "id": "M03d7yyWVTZy"
      },
      "source": [
        "# **1- Implementing K-means**\n",
        "The K-means algorithm is a method to automatically cluster similar data examples together. Concretely, you are given a training set {𝑥(1),⋯,𝑥(𝑚)}\n",
        "\n",
        "The K-means algorithm steps is as follows:"
      ]
    },
    {
      "cell_type": "markdown",
      "metadata": {
        "id": "M0H74CSVVeCK"
      },
      "source": [
        "Centroids = Init_Centroids(X, K)\n",
        "for i in range(iterations):\n",
        "    # Get the Closet Centroid list that corresponds to each training example\n",
        "    ExamplesCentroids = GetExamplesCentroids(X, Centroids)\n",
        " \n",
        "    # Change Centroid Position using Mean\n",
        "    Centroids = computeCentroidsMeans(X, ExamplesCentroids, K):"
      ]
    },
    {
      "cell_type": "markdown",
      "metadata": {
        "id": "rkEKNDn6VkKT"
      },
      "source": [
        "Then you may use the last Centroids values to get a cluster for any other input"
      ]
    },
    {
      "cell_type": "markdown",
      "metadata": {
        "id": "suSA6MkV1Va4"
      },
      "source": [
        "Initialize our train-test Data"
      ]
    },
    {
      "cell_type": "code",
      "metadata": {
        "id": "bgkqzpMa1esc"
      },
      "source": [
        "data = pd.read_excel(\"Training Data.xlsx\")\n",
        "# ==================== YOUR CODE HERE =================================\n",
        "X = data.iloc[:,[0,1,2]].values\n",
        "# ====================================================================="
      ],
      "execution_count": null,
      "outputs": []
    },
    {
      "cell_type": "markdown",
      "metadata": {
        "id": "cFBMiT8i1hg-"
      },
      "source": [
        "### **1.1 - Calculate Euclidean Distance**\n",
        "Euclidean Distance is a method to calculate distance between two points ( P and Q )using the Following equation \n",
        "$$ d\\left( P,Q\\right)   = \\sqrt {\\left( Q_{0}-P_{0}\\right)^2 + \\left  ( Q_{1}-P_{1}\\right)^2} $$"
      ]
    },
    {
      "cell_type": "code",
      "metadata": {
        "id": "L4dawfow1oZ4"
      },
      "source": [
        "def calc_distance(X1, X2):\n",
        "  # ==================== YOUR CODE HERE =================================\n",
        "  return (sum(X1-X2)**2)**0.5\n",
        "  # ====================================================================="
      ],
      "execution_count": null,
      "outputs": []
    },
    {
      "cell_type": "markdown",
      "metadata": {
        "id": "8HbwNaKb1rFp"
      },
      "source": [
        "Assign clusters based on closest centroid"
      ]
    },
    {
      "cell_type": "markdown",
      "metadata": {
        "id": "Gw2GxRVd10pd"
      },
      "source": [
        "### **1.2 - Get Examples Centroids**\n",
        "in this section we need to get the nearest centroid to each training example $x^{(i)}$ Given the list of centroids positions.\n",
        "\n",
        "Your task is to complete the code in the function `calc_centroids`. This function takes the data matrix `cluster_array` and the locations of the centroids inside `clusters` and should output a one-dimensional array `new_centroids` that holds the index (a value in $\\{1, ..., K\\}$, where $K$ is total number of centroids) of the closest centroid to every training example.\n",
        "Also be noted that the function should get each example nearest Centroid **According To the Euclidean Distance**\n"
      ]
    },
    {
      "cell_type": "code",
      "metadata": {
        "id": "71xgmwZJ1v9F"
      },
      "source": [
        "def assign_clusters(centroids, cluster_array):\n",
        "  \n",
        "  '''\n",
        "    Parameters :\n",
        "                  cluster_array ->  Training Examples array of shape (m,n)\n",
        "                  clusters -> Value of Each Centroid (K, n)\n",
        "    Return : \n",
        "                  new_centroids -> List of the number of cluster that corresponds to the training example \n",
        "                                        (Ex.)  the Centroid which is closest to 5th point in the training data\n",
        "                                        is the centroid number 3 (Cluster 3) then new_centroids[5] = 3\n",
        "    Instructions:\n",
        "                  - Go over every example\n",
        "                  - find its closest centroid, and store\n",
        "                  the index inside `new_centroids` at the appropriate location.\n",
        "\n",
        "                  new_centroids[i] should contain the index of the centroid\n",
        "                  closest to example i. then, it should be a value in the \n",
        "                  range [0,K-1]\n",
        "    '''\n",
        "  # ==================== YOUR CODE HERE =================================\n",
        "  \n",
        "  clusters = []\n",
        "  for i in range(cluster_array.shape[0]):\n",
        "    distances = []\n",
        "    for centroid in centroids:\n",
        "      distances.append(calc_distance(centroid , cluster_array[i]))\n",
        "    cluster = [z for z , val  in enumerate(distances) if val == min(distances)]\n",
        "    clusters.append(cluster[0])\n",
        "  return clusters\n",
        "\n",
        "  # ====================================================================="
      ],
      "execution_count": null,
      "outputs": []
    },
    {
      "cell_type": "markdown",
      "metadata": {
        "id": "M4rrOkN08PsY"
      },
      "source": [
        "Calculate the Mean for the current centroids\n"
      ]
    },
    {
      "cell_type": "code",
      "metadata": {
        "id": "bx4V4oN911LH"
      },
      "source": [
        "def calc_centroids(clusters , cluster_array):\n",
        "    # ====================== YOUR CODE HERE ======================\n",
        "    new_centroids = []\n",
        "    c_df = pd.concat([pd.DataFrame(cluster_array),pd.DataFrame(clusters,columns=['cluster'])],axis = 1)\n",
        "    for c in set(c_df['cluster']):\n",
        "      # current_c = c_df[c_df['cluster']==c][c_df.columns[:-1]]\n",
        "      current_c = c_df[c_df['cluster']\\\n",
        "                       ==c][c_df.columns[:-1]]\n",
        "      cluster_mean = current_c.mean(axis = 0)\n",
        "      new_centroids.append(cluster_mean)\n",
        "    return new_centroids\n",
        "    # =============================================================\n",
        "    "
      ],
      "execution_count": null,
      "outputs": []
    },
    {
      "cell_type": "markdown",
      "metadata": {
        "id": "y6HvUh3E17DO"
      },
      "source": [
        "Now Let's put it all together !"
      ]
    },
    {
      "cell_type": "code",
      "metadata": {
        "id": "HQm_dyui0oZP",
        "colab": {
          "base_uri": "https://localhost:8080/",
          "height": 391
        },
        "outputId": "c0ef2cda-2881-4393-de7c-1a1896acf8c8"
      },
      "source": [
        "k = 3\n",
        "cluster_var = []\n",
        "centroids =[X[i+2] for i in range(k)]\n",
        "cluster = assign_clusters(centroids,X)\n",
        "inital_clusters = cluster\n",
        "for i in range(20):\n",
        "   centroids = calc_centroids(cluster,X)\n",
        "   cluster = assign_clusters(centroids, X)\n",
        "\n",
        "plt.subplots(figsize=(9,6))\n",
        "plt.scatter(X[:, 0], X[:, 1],\n",
        "            c=cluster,cmap=plt.cm.Spectral)\n",
        "\n",
        "   "
      ],
      "execution_count": null,
      "outputs": [
        {
          "output_type": "execute_result",
          "data": {
            "text/plain": [
              "<matplotlib.collections.PathCollection at 0x7f1045117f90>"
            ]
          },
          "metadata": {},
          "execution_count": 22
        },
        {
          "output_type": "display_data",
          "data": {
            "text/plain": [
              "<Figure size 648x432 with 1 Axes>"
            ],
            "image/png": "[encoded data removed]"
          },
          "metadata": {
            "needs_background": "light"
          }
        }
      ]
    },
    {
      "cell_type": "code",
      "metadata": {
        "id": "8SCOgDlPj98R",
        "colab": {
          "base_uri": "https://localhost:8080/"
        },
        "outputId": "86e68cb6-82a5-4153-d409-f6d25d116ca5"
      },
      "source": [
        "test = pd.read_csv('Test Data.txt',header = None).to_numpy()\n",
        "test_data_categories = assign_clusters(centroids, test)\n",
        "print(test_data_categories)"
      ],
      "execution_count": null,
      "outputs": [
        {
          "output_type": "stream",
          "name": "stdout",
          "text": [
            "[0, 1, 1, 2, 1, 2, 1, 0, 0, 1]\n"
          ]
        }
      ]
    },
    {
      "cell_type": "markdown",
      "metadata": {
        "id": "XkhClyCKYbj5"
      },
      "source": [
        "Save your output to a text file so we can process it"
      ]
    },
    {
      "cell_type": "code",
      "metadata": {
        "id": "z3tEo8O2fOJW"
      },
      "source": [
        "import sys\n",
        "f = open(\"Categories.txt\", \"w\")\n",
        "for i in test_data_categories:\n",
        "  print(i, file = f)\n",
        "f.close()"
      ],
      "execution_count": null,
      "outputs": []
    }
  ]
}